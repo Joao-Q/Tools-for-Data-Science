{
 "cells": [
  {
   "cell_type": "markdown",
   "metadata": {},
   "source": [
    "**Exercise 2: Create markdown cell with title of the notebook**\n",
    "\n",
    "# Data Science Tools and Ecosystem"
   ]
  },
  {
   "cell_type": "markdown",
   "metadata": {},
   "source": [
    "**Exercise 3 - Create a markdown cell for an introduction**\n",
    "\n",
    "In this notebook, Data Science Tools and Ecosystem are summarized.\n"
   ]
  },
  {
   "cell_type": "markdown",
   "metadata": {},
   "source": [
    "**Exercise 10 - Insert a markdown cell to list Objectives**\n",
    "\n",
    "**Objectives:**\n",
    "\n",
    "- List popular languages for Data Science\n",
    "- Describe the components of a Data Scientist's toolkit and list various tool categories.\n",
    "- List examples of open-source tools used in data science.\n",
    "- Describe the relevant features of open-source tools.\n",
    "- List examples of commercial and cloud-based data science tools.\n"
   ]
  },
  {
   "cell_type": "markdown",
   "metadata": {},
   "source": [
    "**Exercise 4 - Create a markdown cell to list data science languages**\n",
    "\n",
    "Some of the popular languages that Data Scientists use are:\n",
    "1. **Python**  \n",
    "2. **R**  \n",
    "3. **SQL**  "
   ]
  },
  {
   "cell_type": "markdown",
   "metadata": {},
   "source": [
    "**Exercise 5 - Create a markdown cell to list data science libraries**\n",
    "\n",
    "Some of the commonly used libraries used by Data Scientists include:\n",
    "\n",
    "1. **Pandas**\n",
    "2. **Numpy**\n",
    "3. **Matplotlib**"
   ]
  },
  {
   "cell_type": "markdown",
   "metadata": {},
   "source": [
    "**Exercise 6 - Create a markdown cell with a table of Data Science tools**\n",
    "\n",
    "|Data Science Tools|\n",
    "--------------------\n",
    "|VS Code|\n",
    "|RStudio|\n",
    "|Jupyter Notebook|"
   ]
  },
  {
   "cell_type": "markdown",
   "metadata": {},
   "source": [
    "**Exercise 7 - Create a markdown cell introducing arithmetic expression examples**\n",
    "\n",
    "Below are a few examples of evaluating arithmetic expressions in Python\n",
    "\n",
    "- Addition: `1 + 2`\n",
    "- Subtraction: `2 - 1`\n",
    "- Multiplication: `2 * 3`\n",
    "- Division: `4 / 2`"
   ]
  },
  {
   "cell_type": "code",
   "execution_count": 2,
   "metadata": {},
   "outputs": [
    {
     "name": "stdout",
     "output_type": "stream",
     "text": [
      "17\n"
     ]
    }
   ],
   "source": [
    "#Exercise 8 - Create a code cell to multiply and add numbers\n",
    "\n",
    "# This a simple arithmetic expression to mutiply then add integers\n",
    "print((3*4)+5)"
   ]
  },
  {
   "cell_type": "code",
   "execution_count": 4,
   "metadata": {},
   "outputs": [
    {
     "name": "stdout",
     "output_type": "stream",
     "text": [
      "3.3333333333333335\n"
     ]
    }
   ],
   "source": [
    "#Exercise 9 - Create a code cell to convert minutes to hours\n",
    "\n",
    "#This will convert 200 minutes to hours by diving by 60\n",
    "\n",
    "minutes = 200\n",
    "hours = minutes / 60\n",
    "print(hours)"
   ]
  },
  {
   "cell_type": "markdown",
   "metadata": {},
   "source": [
    "## Author\n",
    "João Quintão"
   ]
  }
 ],
 "metadata": {
  "kernelspec": {
   "display_name": "Python 3",
   "language": "python",
   "name": "python3"
  },
  "language_info": {
   "codemirror_mode": {
    "name": "ipython",
    "version": 3
   },
   "file_extension": ".py",
   "mimetype": "text/x-python",
   "name": "python",
   "nbconvert_exporter": "python",
   "pygments_lexer": "ipython3",
   "version": "3.11.1"
  }
 },
 "nbformat": 4,
 "nbformat_minor": 2
}
